{
 "cells": [
  {
   "cell_type": "code",
   "execution_count": 1,
   "id": "d1bece79-9d73-42cb-87fc-cc32792947ab",
   "metadata": {},
   "outputs": [
    {
     "name": "stdout",
     "output_type": "stream",
     "text": [
      "100 <class 'int'> 140712175285136\n",
      "100 <class 'int'> 140712175285136\n"
     ]
    }
   ],
   "source": [
    "a = 100\n",
    "b = 100\n",
    "print (a, type(a), id(a))\n",
    "print (b, type(b), id(b))"
   ]
  },
  {
   "cell_type": "code",
   "execution_count": 3,
   "id": "0f14a05f-e562-42e5-be38-de99a4161db1",
   "metadata": {},
   "outputs": [
    {
     "name": "stdout",
     "output_type": "stream",
     "text": [
      "257 <class 'int'> 1507069788784\n",
      "257 <class 'int'> 1507069788688\n"
     ]
    }
   ],
   "source": [
    "a = 257\n",
    "b = 257\n",
    "print (a, type(a), id(a))\n",
    "print (b, type(b), id(b))"
   ]
  },
  {
   "cell_type": "code",
   "execution_count": 5,
   "id": "65aa872b-346f-45a1-a2f6-b2b9f0b0a1ce",
   "metadata": {},
   "outputs": [
    {
     "name": "stdout",
     "output_type": "stream",
     "text": [
      "-6 <class 'int'> 1507069788688\n",
      "-6 <class 'int'> 1507069789328\n"
     ]
    }
   ],
   "source": [
    "a = -6\n",
    "b = -6\n",
    "print (a, type(a), id(a))\n",
    "print (b, type(b), id(b))"
   ]
  },
  {
   "cell_type": "code",
   "execution_count": null,
   "id": "35e5869c-967b-4a40-a37f-3215bddd7179",
   "metadata": {},
   "outputs": [],
   "source": [
    "total = 1 + 2 + 3 + 4 + 10 + 5 + 6 + 7 + 8 + 26 + 9 + 10 + ... n terms\n",
    "Find the sum of the series for user given value in n."
   ]
  },
  {
   "cell_type": "code",
   "execution_count": 7,
   "id": "0ff33942-e5b0-4b9f-a87f-77c8954b47e6",
   "metadata": {},
   "outputs": [
    {
     "name": "stdin",
     "output_type": "stream",
     "text": [
      "Please enter the number of terms:  10\n"
     ]
    },
    {
     "name": "stdout",
     "output_type": "stream",
     "text": [
      "Adding term = 1 and fsum = 1...\n",
      "Adding term = 2 and fsum = 3...\n",
      "Adding term = 3 and fsum = 6...\n",
      "Adding term = 4 and fsum = 10...\n",
      "Adding tsum = 10 and fsum = 20...\n",
      "Adding term = 5 and fsum = 25...\n",
      "Adding term = 6 and fsum = 31...\n",
      "Adding term = 7 and fsum = 38...\n",
      "Adding term = 8 and fsum = 46...\n",
      "Adding tsum = 26 and fsum = 72...\n",
      "So for n = 10 the final sum of the series is 72...\n",
      "End of the program...\n"
     ]
    }
   ],
   "source": [
    "n = int(input(\"Please enter the number of terms: \"))\n",
    "term = 1\n",
    "fsum = tsum = 0\n",
    "for i in range(1, n + 1):\n",
    "    if (i % 5 == 0):\n",
    "        fsum = fsum + tsum\n",
    "        print (f\"Adding tsum = {tsum} and fsum = {fsum}...\")\n",
    "        tsum = 0\n",
    "    else:\n",
    "        fsum = fsum + term\n",
    "        tsum = tsum + term\n",
    "        print (f\"Adding term = {term} and fsum = {fsum}...\")\n",
    "        term = term + 1\n",
    "print (f\"So for n = {n} the final sum of the series is {fsum}...\")\n",
    "print (\"End of the program...\")"
   ]
  },
  {
   "cell_type": "code",
   "execution_count": 8,
   "id": "b2a169e7-1e00-4989-ba1c-65bf24f30e6b",
   "metadata": {},
   "outputs": [
    {
     "name": "stdin",
     "output_type": "stream",
     "text": [
      "Please enter the first number... 100\n",
      "Please enter the second number... 400\n"
     ]
    }
   ],
   "source": [
    "num1 = int(input(\"Please enter the first number...\"))\n",
    "num2 = int(input(\"Please enter the second number...\"))\n",
    "total = num1 + num2"
   ]
  },
  {
   "cell_type": "code",
   "execution_count": 25,
   "id": "a15d7f44-114f-4f3c-bfcc-ed26edb9be64",
   "metadata": {},
   "outputs": [
    {
     "name": "stdout",
     "output_type": "stream",
     "text": [
      "So 100 + 400 = 500\n",
      "So 100 + 400 = 500\n",
      "So 100 + 400 = 500\n",
      "So 100 + 400 = 500\n",
      "So 100 + 400 = 500\n",
      "So 100 + 400 = 500\n",
      "So 100 + 400 = 500\n",
      "So 100 + 400 = 500\n",
      "So 100 + 400 = 500.000000\n",
      "So 100 + 400 = 500.000000\n",
      "So 100 + 400 = 500.0000\n",
      "So 100 + 400 = 500\n"
     ]
    }
   ],
   "source": [
    "print (\"So\", num1, \"+\", num2, \"=\", total)\n",
    "print (\"So \" + str(num1) + \" + \" + str(num2) + \" = \" + str(total))\n",
    "print (\"So {} + {} = {}\".format(num1, num2, total))  # place holder\n",
    "print (\"So {0} + {1} = {2}\".format(num1, num2, total))  # indexed place holder\n",
    "print (\"So {2} + {1} = {0}\".format(total, num2, num1))  # indexed place holder\n",
    "print (\"So {fnum} + {snum} = {tot}\".format(fnum = num1, snum = num2, tot = total))  # labeled place holder\n",
    "print (\"So {fnum} + {snum} = {tot}\".format(snum = num2, fnum = num1, tot = total))  # labeled place holder\n",
    "print (\"So %d + %d = %d\"%(num1, num2, total))\n",
    "print (\"So %d + %d = %f\"%(num1, num2, total))\n",
    "print (\"So %d + %d = %10.6f\"%(num1, num2, total))\n",
    "print (\"So %d + %d = %8.4f\"%(num1, num2, total))\n",
    "print (f\"So {num1} + {num2} = {total}\")"
   ]
  },
  {
   "cell_type": "code",
   "execution_count": null,
   "id": "0d38ac8e-3d3b-4b76-9409-494314186a9c",
   "metadata": {},
   "outputs": [],
   "source": []
  },
  {
   "cell_type": "code",
   "execution_count": null,
   "id": "c74539be-f255-4d7e-ba23-bf8ff54d13c6",
   "metadata": {},
   "outputs": [],
   "source": []
  },
  {
   "cell_type": "code",
   "execution_count": null,
   "id": "7ae54af5-5a1b-4271-a9ad-e9124b76c244",
   "metadata": {},
   "outputs": [],
   "source": []
  },
  {
   "cell_type": "code",
   "execution_count": null,
   "id": "2559e914-ff22-4f7c-af52-6983f44e1833",
   "metadata": {},
   "outputs": [],
   "source": []
  },
  {
   "cell_type": "code",
   "execution_count": null,
   "id": "7a2914db-1d38-48e2-a603-1a5e817b1dda",
   "metadata": {},
   "outputs": [],
   "source": []
  },
  {
   "cell_type": "code",
   "execution_count": null,
   "id": "ece111c6-8fdf-46c6-96c2-9948b6094dc5",
   "metadata": {},
   "outputs": [],
   "source": []
  },
  {
   "cell_type": "code",
   "execution_count": null,
   "id": "8f05761b-57b1-4672-b046-9988f13c5eb1",
   "metadata": {},
   "outputs": [],
   "source": []
  },
  {
   "cell_type": "code",
   "execution_count": null,
   "id": "3e963e71-8b71-4a6a-b0fc-c19a5074b38d",
   "metadata": {},
   "outputs": [],
   "source": []
  },
  {
   "cell_type": "code",
   "execution_count": null,
   "id": "5c34fe90-e9a2-4194-8c66-8a7558d95e22",
   "metadata": {},
   "outputs": [],
   "source": []
  },
  {
   "cell_type": "code",
   "execution_count": null,
   "id": "a8cfa9af-1b3d-4a39-b3e6-0249991735ff",
   "metadata": {},
   "outputs": [],
   "source": []
  },
  {
   "cell_type": "code",
   "execution_count": null,
   "id": "515824fd-b00c-4108-8e36-8a3695434d69",
   "metadata": {},
   "outputs": [],
   "source": []
  },
  {
   "cell_type": "code",
   "execution_count": null,
   "id": "7939a965-a04d-4e40-90bf-c97c7545ac6b",
   "metadata": {},
   "outputs": [],
   "source": []
  },
  {
   "cell_type": "code",
   "execution_count": null,
   "id": "3bac4ef9-30af-4ac7-97bd-8eac0c9e34d2",
   "metadata": {},
   "outputs": [],
   "source": []
  },
  {
   "cell_type": "code",
   "execution_count": null,
   "id": "71b25b2d-24c2-41d7-bb1b-935549165227",
   "metadata": {},
   "outputs": [],
   "source": []
  },
  {
   "cell_type": "code",
   "execution_count": null,
   "id": "e13c0721-02c1-4a6c-b057-8d56c40102b9",
   "metadata": {},
   "outputs": [],
   "source": []
  },
  {
   "cell_type": "code",
   "execution_count": null,
   "id": "457f4e7b-edc8-442b-b81a-99f6d6cf588c",
   "metadata": {},
   "outputs": [],
   "source": []
  },
  {
   "cell_type": "code",
   "execution_count": null,
   "id": "fd308f21-d0c9-4b33-9697-af84881243ca",
   "metadata": {},
   "outputs": [],
   "source": []
  },
  {
   "cell_type": "code",
   "execution_count": null,
   "id": "c58e7a62-d6ec-48c4-b68a-aba4a47c56ee",
   "metadata": {},
   "outputs": [],
   "source": []
  },
  {
   "cell_type": "code",
   "execution_count": null,
   "id": "d6db362a-0bff-4e9d-a879-6f86600f8abc",
   "metadata": {},
   "outputs": [],
   "source": []
  }
 ],
 "metadata": {
  "kernelspec": {
   "display_name": "Python 3",
   "language": "python",
   "name": "python3"
  },
  "language_info": {
   "codemirror_mode": {
    "name": "ipython",
    "version": 3
   },
   "file_extension": ".py",
   "mimetype": "text/x-python",
   "name": "python",
   "nbconvert_exporter": "python",
   "pygments_lexer": "ipython3",
   "version": "3.8.8"
  }
 },
 "nbformat": 4,
 "nbformat_minor": 5
}
