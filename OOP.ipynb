{
 "cells": [
  {
   "cell_type": "code",
   "execution_count": 1,
   "id": "d1bece79-9d73-42cb-87fc-cc32792947ab",
   "metadata": {},
   "outputs": [
    {
     "name": "stdout",
     "output_type": "stream",
     "text": [
      "100 <class 'int'> 140712175285136\n",
      "100 <class 'int'> 140712175285136\n"
     ]
    }
   ],
   "source": [
    "a = 100\n",
    "b = 100\n",
    "print (a, type(a), id(a))\n",
    "print (b, type(b), id(b))"
   ]
  },
  {
   "cell_type": "code",
   "execution_count": 3,
   "id": "0f14a05f-e562-42e5-be38-de99a4161db1",
   "metadata": {},
   "outputs": [
    {
     "name": "stdout",
     "output_type": "stream",
     "text": [
      "257 <class 'int'> 1507069788784\n",
      "257 <class 'int'> 1507069788688\n"
     ]
    }
   ],
   "source": [
    "a = 257\n",
    "b = 257\n",
    "print (a, type(a), id(a))\n",
    "print (b, type(b), id(b))"
   ]
  },
  {
   "cell_type": "code",
   "execution_count": 5,
   "id": "65aa872b-346f-45a1-a2f6-b2b9f0b0a1ce",
   "metadata": {},
   "outputs": [
    {
     "name": "stdout",
     "output_type": "stream",
     "text": [
      "-6 <class 'int'> 1507069788688\n",
      "-6 <class 'int'> 1507069789328\n"
     ]
    }
   ],
   "source": [
    "a = -6\n",
    "b = -6\n",
    "print (a, type(a), id(a))\n",
    "print (b, type(b), id(b))"
   ]
  },
  {
   "cell_type": "code",
   "execution_count": null,
   "id": "35e5869c-967b-4a40-a37f-3215bddd7179",
   "metadata": {},
   "outputs": [],
   "source": [
    "total = 1 + 2 + 3 + 4 + 10 + 5 + 6 + 7 + 8 + 26 + 9 + 10 + ... n terms\n",
    "Find the sum of the series for user given value in n."
   ]
  },
  {
   "cell_type": "code",
   "execution_count": 7,
   "id": "0ff33942-e5b0-4b9f-a87f-77c8954b47e6",
   "metadata": {},
   "outputs": [
    {
     "name": "stdin",
     "output_type": "stream",
     "text": [
      "Please enter the number of terms:  10\n"
     ]
    },
    {
     "name": "stdout",
     "output_type": "stream",
     "text": [
      "Adding term = 1 and fsum = 1...\n",
      "Adding term = 2 and fsum = 3...\n",
      "Adding term = 3 and fsum = 6...\n",
      "Adding term = 4 and fsum = 10...\n",
      "Adding tsum = 10 and fsum = 20...\n",
      "Adding term = 5 and fsum = 25...\n",
      "Adding term = 6 and fsum = 31...\n",
      "Adding term = 7 and fsum = 38...\n",
      "Adding term = 8 and fsum = 46...\n",
      "Adding tsum = 26 and fsum = 72...\n",
      "So for n = 10 the final sum of the series is 72...\n",
      "End of the program...\n"
     ]
    }
   ],
   "source": [
    "n = int(input(\"Please enter the number of terms: \"))\n",
    "term = 1\n",
    "fsum = tsum = 0\n",
    "for i in range(1, n + 1):\n",
    "    if (i % 5 == 0):\n",
    "        fsum = fsum + tsum\n",
    "        print (f\"Adding tsum = {tsum} and fsum = {fsum}...\")\n",
    "        tsum = 0\n",
    "    else:\n",
    "        fsum = fsum + term\n",
    "        tsum = tsum + term\n",
    "        print (f\"Adding term = {term} and fsum = {fsum}...\")\n",
    "        term = term + 1\n",
    "print (f\"So for n = {n} the final sum of the series is {fsum}...\")\n",
    "print (\"End of the program...\")"
   ]
  },
  {
   "cell_type": "code",
   "execution_count": 8,
   "id": "b2a169e7-1e00-4989-ba1c-65bf24f30e6b",
   "metadata": {},
   "outputs": [
    {
     "name": "stdin",
     "output_type": "stream",
     "text": [
      "Please enter the first number... 100\n",
      "Please enter the second number... 400\n"
     ]
    }
   ],
   "source": [
    "num1 = int(input(\"Please enter the first number...\"))\n",
    "num2 = int(input(\"Please enter the second number...\"))\n",
    "total = num1 + num2"
   ]
  },
  {
   "cell_type": "code",
   "execution_count": 25,
   "id": "a15d7f44-114f-4f3c-bfcc-ed26edb9be64",
   "metadata": {},
   "outputs": [
    {
     "name": "stdout",
     "output_type": "stream",
     "text": [
      "So 100 + 400 = 500\n",
      "So 100 + 400 = 500\n",
      "So 100 + 400 = 500\n",
      "So 100 + 400 = 500\n",
      "So 100 + 400 = 500\n",
      "So 100 + 400 = 500\n",
      "So 100 + 400 = 500\n",
      "So 100 + 400 = 500\n",
      "So 100 + 400 = 500.000000\n",
      "So 100 + 400 = 500.000000\n",
      "So 100 + 400 = 500.0000\n",
      "So 100 + 400 = 500\n"
     ]
    }
   ],
   "source": [
    "print (\"So\", num1, \"+\", num2, \"=\", total)\n",
    "print (\"So \" + str(num1) + \" + \" + str(num2) + \" = \" + str(total))\n",
    "print (\"So {} + {} = {}\".format(num1, num2, total))  # place holder\n",
    "print (\"So {0} + {1} = {2}\".format(num1, num2, total))  # indexed place holder\n",
    "print (\"So {2} + {1} = {0}\".format(total, num2, num1))  # indexed place holder\n",
    "print (\"So {fnum} + {snum} = {tot}\".format(fnum = num1, snum = num2, tot = total))  # labeled place holder\n",
    "print (\"So {fnum} + {snum} = {tot}\".format(snum = num2, fnum = num1, tot = total))  # labeled place holder\n",
    "print (\"So %d + %d = %d\"%(num1, num2, total))\n",
    "print (\"So %d + %d = %f\"%(num1, num2, total))\n",
    "print (\"So %d + %d = %10.6f\"%(num1, num2, total))\n",
    "print (\"So %d + %d = %8.4f\"%(num1, num2, total))\n",
    "print (f\"So {num1} + {num2} = {total}\")"
   ]
  },
  {
   "cell_type": "markdown",
   "id": "c376b968-707b-4bae-83d2-fd20187bc747",
   "metadata": {},
   "source": [
    "### Object Oriented Programming in Python"
   ]
  },
  {
   "cell_type": "code",
   "execution_count": 27,
   "id": "c74539be-f255-4d7e-ba23-bf8ff54d13c6",
   "metadata": {},
   "outputs": [
    {
     "name": "stdout",
     "output_type": "stream",
     "text": [
      "This is a document string...\n",
      "This is a document string...\n"
     ]
    }
   ],
   "source": [
    "class MyFirstClass:\n",
    "    \"\"\"This is a document string...\"\"\"\n",
    "    \n",
    "ob1 = MyFirstClass()\n",
    "print (ob1.__doc__)\n",
    "print (MyFirstClass.__doc__)"
   ]
  },
  {
   "cell_type": "code",
   "execution_count": 29,
   "id": "7ae54af5-5a1b-4271-a9ad-e9124b76c244",
   "metadata": {},
   "outputs": [
    {
     "name": "stdout",
     "output_type": "stream",
     "text": [
      "100 <class 'int'>\n",
      "int([x]) -> integer\n",
      "int(x, base=10) -> integer\n",
      "\n",
      "Convert a number or string to an integer, or return 0 if no arguments\n",
      "are given.  If x is a number, return x.__int__().  For floating point\n",
      "numbers, this truncates towards zero.\n",
      "\n",
      "If x is not a number or if base is given, then x must be a string,\n",
      "bytes, or bytearray instance representing an integer literal in the\n",
      "given base.  The literal can be preceded by '+' or '-' and be surrounded\n",
      "by whitespace.  The base defaults to 10.  Valid bases are 0 and 2-36.\n",
      "Base 0 means to interpret the base from the string as an integer literal.\n",
      ">>> int('0b100', base=0)\n",
      "4\n"
     ]
    }
   ],
   "source": [
    "var1 = 100\n",
    "print (var1, type(var1))\n",
    "print (int.__doc__)"
   ]
  },
  {
   "cell_type": "code",
   "execution_count": 30,
   "id": "2559e914-ff22-4f7c-af52-6983f44e1833",
   "metadata": {},
   "outputs": [
    {
     "name": "stdout",
     "output_type": "stream",
     "text": [
      "100 <class 'str'>\n",
      "str(object='') -> str\n",
      "str(bytes_or_buffer[, encoding[, errors]]) -> str\n",
      "\n",
      "Create a new string object from the given object. If encoding or\n",
      "errors is specified, then the object must expose a data buffer\n",
      "that will be decoded using the given encoding and error handler.\n",
      "Otherwise, returns the result of object.__str__() (if defined)\n",
      "or repr(object).\n",
      "encoding defaults to sys.getdefaultencoding().\n",
      "errors defaults to 'strict'.\n"
     ]
    }
   ],
   "source": [
    "var1 = \"100\"\n",
    "print (var1, type(var1))\n",
    "print (str.__doc__)"
   ]
  },
  {
   "cell_type": "code",
   "execution_count": 31,
   "id": "7a2914db-1d38-48e2-a603-1a5e817b1dda",
   "metadata": {
    "scrolled": true,
    "tags": []
   },
   "outputs": [
    {
     "name": "stdout",
     "output_type": "stream",
     "text": [
      "Help on class str in module builtins:\n",
      "\n",
      "class str(object)\n",
      " |  str(object='') -> str\n",
      " |  str(bytes_or_buffer[, encoding[, errors]]) -> str\n",
      " |  \n",
      " |  Create a new string object from the given object. If encoding or\n",
      " |  errors is specified, then the object must expose a data buffer\n",
      " |  that will be decoded using the given encoding and error handler.\n",
      " |  Otherwise, returns the result of object.__str__() (if defined)\n",
      " |  or repr(object).\n",
      " |  encoding defaults to sys.getdefaultencoding().\n",
      " |  errors defaults to 'strict'.\n",
      " |  \n",
      " |  Methods defined here:\n",
      " |  \n",
      " |  __add__(self, value, /)\n",
      " |      Return self+value.\n",
      " |  \n",
      " |  __contains__(self, key, /)\n",
      " |      Return key in self.\n",
      " |  \n",
      " |  __eq__(self, value, /)\n",
      " |      Return self==value.\n",
      " |  \n",
      " |  __format__(self, format_spec, /)\n",
      " |      Return a formatted version of the string as described by format_spec.\n",
      " |  \n",
      " |  __ge__(self, value, /)\n",
      " |      Return self>=value.\n",
      " |  \n",
      " |  __getattribute__(self, name, /)\n",
      " |      Return getattr(self, name).\n",
      " |  \n",
      " |  __getitem__(self, key, /)\n",
      " |      Return self[key].\n",
      " |  \n",
      " |  __getnewargs__(...)\n",
      " |  \n",
      " |  __gt__(self, value, /)\n",
      " |      Return self>value.\n",
      " |  \n",
      " |  __hash__(self, /)\n",
      " |      Return hash(self).\n",
      " |  \n",
      " |  __iter__(self, /)\n",
      " |      Implement iter(self).\n",
      " |  \n",
      " |  __le__(self, value, /)\n",
      " |      Return self<=value.\n",
      " |  \n",
      " |  __len__(self, /)\n",
      " |      Return len(self).\n",
      " |  \n",
      " |  __lt__(self, value, /)\n",
      " |      Return self<value.\n",
      " |  \n",
      " |  __mod__(self, value, /)\n",
      " |      Return self%value.\n",
      " |  \n",
      " |  __mul__(self, value, /)\n",
      " |      Return self*value.\n",
      " |  \n",
      " |  __ne__(self, value, /)\n",
      " |      Return self!=value.\n",
      " |  \n",
      " |  __repr__(self, /)\n",
      " |      Return repr(self).\n",
      " |  \n",
      " |  __rmod__(self, value, /)\n",
      " |      Return value%self.\n",
      " |  \n",
      " |  __rmul__(self, value, /)\n",
      " |      Return value*self.\n",
      " |  \n",
      " |  __sizeof__(self, /)\n",
      " |      Return the size of the string in memory, in bytes.\n",
      " |  \n",
      " |  __str__(self, /)\n",
      " |      Return str(self).\n",
      " |  \n",
      " |  capitalize(self, /)\n",
      " |      Return a capitalized version of the string.\n",
      " |      \n",
      " |      More specifically, make the first character have upper case and the rest lower\n",
      " |      case.\n",
      " |  \n",
      " |  casefold(self, /)\n",
      " |      Return a version of the string suitable for caseless comparisons.\n",
      " |  \n",
      " |  center(self, width, fillchar=' ', /)\n",
      " |      Return a centered string of length width.\n",
      " |      \n",
      " |      Padding is done using the specified fill character (default is a space).\n",
      " |  \n",
      " |  count(...)\n",
      " |      S.count(sub[, start[, end]]) -> int\n",
      " |      \n",
      " |      Return the number of non-overlapping occurrences of substring sub in\n",
      " |      string S[start:end].  Optional arguments start and end are\n",
      " |      interpreted as in slice notation.\n",
      " |  \n",
      " |  encode(self, /, encoding='utf-8', errors='strict')\n",
      " |      Encode the string using the codec registered for encoding.\n",
      " |      \n",
      " |      encoding\n",
      " |        The encoding in which to encode the string.\n",
      " |      errors\n",
      " |        The error handling scheme to use for encoding errors.\n",
      " |        The default is 'strict' meaning that encoding errors raise a\n",
      " |        UnicodeEncodeError.  Other possible values are 'ignore', 'replace' and\n",
      " |        'xmlcharrefreplace' as well as any other name registered with\n",
      " |        codecs.register_error that can handle UnicodeEncodeErrors.\n",
      " |  \n",
      " |  endswith(...)\n",
      " |      S.endswith(suffix[, start[, end]]) -> bool\n",
      " |      \n",
      " |      Return True if S ends with the specified suffix, False otherwise.\n",
      " |      With optional start, test S beginning at that position.\n",
      " |      With optional end, stop comparing S at that position.\n",
      " |      suffix can also be a tuple of strings to try.\n",
      " |  \n",
      " |  expandtabs(self, /, tabsize=8)\n",
      " |      Return a copy where all tab characters are expanded using spaces.\n",
      " |      \n",
      " |      If tabsize is not given, a tab size of 8 characters is assumed.\n",
      " |  \n",
      " |  find(...)\n",
      " |      S.find(sub[, start[, end]]) -> int\n",
      " |      \n",
      " |      Return the lowest index in S where substring sub is found,\n",
      " |      such that sub is contained within S[start:end].  Optional\n",
      " |      arguments start and end are interpreted as in slice notation.\n",
      " |      \n",
      " |      Return -1 on failure.\n",
      " |  \n",
      " |  format(...)\n",
      " |      S.format(*args, **kwargs) -> str\n",
      " |      \n",
      " |      Return a formatted version of S, using substitutions from args and kwargs.\n",
      " |      The substitutions are identified by braces ('{' and '}').\n",
      " |  \n",
      " |  format_map(...)\n",
      " |      S.format_map(mapping) -> str\n",
      " |      \n",
      " |      Return a formatted version of S, using substitutions from mapping.\n",
      " |      The substitutions are identified by braces ('{' and '}').\n",
      " |  \n",
      " |  index(...)\n",
      " |      S.index(sub[, start[, end]]) -> int\n",
      " |      \n",
      " |      Return the lowest index in S where substring sub is found,\n",
      " |      such that sub is contained within S[start:end].  Optional\n",
      " |      arguments start and end are interpreted as in slice notation.\n",
      " |      \n",
      " |      Raises ValueError when the substring is not found.\n",
      " |  \n",
      " |  isalnum(self, /)\n",
      " |      Return True if the string is an alpha-numeric string, False otherwise.\n",
      " |      \n",
      " |      A string is alpha-numeric if all characters in the string are alpha-numeric and\n",
      " |      there is at least one character in the string.\n",
      " |  \n",
      " |  isalpha(self, /)\n",
      " |      Return True if the string is an alphabetic string, False otherwise.\n",
      " |      \n",
      " |      A string is alphabetic if all characters in the string are alphabetic and there\n",
      " |      is at least one character in the string.\n",
      " |  \n",
      " |  isascii(self, /)\n",
      " |      Return True if all characters in the string are ASCII, False otherwise.\n",
      " |      \n",
      " |      ASCII characters have code points in the range U+0000-U+007F.\n",
      " |      Empty string is ASCII too.\n",
      " |  \n",
      " |  isdecimal(self, /)\n",
      " |      Return True if the string is a decimal string, False otherwise.\n",
      " |      \n",
      " |      A string is a decimal string if all characters in the string are decimal and\n",
      " |      there is at least one character in the string.\n",
      " |  \n",
      " |  isdigit(self, /)\n",
      " |      Return True if the string is a digit string, False otherwise.\n",
      " |      \n",
      " |      A string is a digit string if all characters in the string are digits and there\n",
      " |      is at least one character in the string.\n",
      " |  \n",
      " |  isidentifier(self, /)\n",
      " |      Return True if the string is a valid Python identifier, False otherwise.\n",
      " |      \n",
      " |      Call keyword.iskeyword(s) to test whether string s is a reserved identifier,\n",
      " |      such as \"def\" or \"class\".\n",
      " |  \n",
      " |  islower(self, /)\n",
      " |      Return True if the string is a lowercase string, False otherwise.\n",
      " |      \n",
      " |      A string is lowercase if all cased characters in the string are lowercase and\n",
      " |      there is at least one cased character in the string.\n",
      " |  \n",
      " |  isnumeric(self, /)\n",
      " |      Return True if the string is a numeric string, False otherwise.\n",
      " |      \n",
      " |      A string is numeric if all characters in the string are numeric and there is at\n",
      " |      least one character in the string.\n",
      " |  \n",
      " |  isprintable(self, /)\n",
      " |      Return True if the string is printable, False otherwise.\n",
      " |      \n",
      " |      A string is printable if all of its characters are considered printable in\n",
      " |      repr() or if it is empty.\n",
      " |  \n",
      " |  isspace(self, /)\n",
      " |      Return True if the string is a whitespace string, False otherwise.\n",
      " |      \n",
      " |      A string is whitespace if all characters in the string are whitespace and there\n",
      " |      is at least one character in the string.\n",
      " |  \n",
      " |  istitle(self, /)\n",
      " |      Return True if the string is a title-cased string, False otherwise.\n",
      " |      \n",
      " |      In a title-cased string, upper- and title-case characters may only\n",
      " |      follow uncased characters and lowercase characters only cased ones.\n",
      " |  \n",
      " |  isupper(self, /)\n",
      " |      Return True if the string is an uppercase string, False otherwise.\n",
      " |      \n",
      " |      A string is uppercase if all cased characters in the string are uppercase and\n",
      " |      there is at least one cased character in the string.\n",
      " |  \n",
      " |  join(self, iterable, /)\n",
      " |      Concatenate any number of strings.\n",
      " |      \n",
      " |      The string whose method is called is inserted in between each given string.\n",
      " |      The result is returned as a new string.\n",
      " |      \n",
      " |      Example: '.'.join(['ab', 'pq', 'rs']) -> 'ab.pq.rs'\n",
      " |  \n",
      " |  ljust(self, width, fillchar=' ', /)\n",
      " |      Return a left-justified string of length width.\n",
      " |      \n",
      " |      Padding is done using the specified fill character (default is a space).\n",
      " |  \n",
      " |  lower(self, /)\n",
      " |      Return a copy of the string converted to lowercase.\n",
      " |  \n",
      " |  lstrip(self, chars=None, /)\n",
      " |      Return a copy of the string with leading whitespace removed.\n",
      " |      \n",
      " |      If chars is given and not None, remove characters in chars instead.\n",
      " |  \n",
      " |  partition(self, sep, /)\n",
      " |      Partition the string into three parts using the given separator.\n",
      " |      \n",
      " |      This will search for the separator in the string.  If the separator is found,\n",
      " |      returns a 3-tuple containing the part before the separator, the separator\n",
      " |      itself, and the part after it.\n",
      " |      \n",
      " |      If the separator is not found, returns a 3-tuple containing the original string\n",
      " |      and two empty strings.\n",
      " |  \n",
      " |  replace(self, old, new, count=-1, /)\n",
      " |      Return a copy with all occurrences of substring old replaced by new.\n",
      " |      \n",
      " |        count\n",
      " |          Maximum number of occurrences to replace.\n",
      " |          -1 (the default value) means replace all occurrences.\n",
      " |      \n",
      " |      If the optional argument count is given, only the first count occurrences are\n",
      " |      replaced.\n",
      " |  \n",
      " |  rfind(...)\n",
      " |      S.rfind(sub[, start[, end]]) -> int\n",
      " |      \n",
      " |      Return the highest index in S where substring sub is found,\n",
      " |      such that sub is contained within S[start:end].  Optional\n",
      " |      arguments start and end are interpreted as in slice notation.\n",
      " |      \n",
      " |      Return -1 on failure.\n",
      " |  \n",
      " |  rindex(...)\n",
      " |      S.rindex(sub[, start[, end]]) -> int\n",
      " |      \n",
      " |      Return the highest index in S where substring sub is found,\n",
      " |      such that sub is contained within S[start:end].  Optional\n",
      " |      arguments start and end are interpreted as in slice notation.\n",
      " |      \n",
      " |      Raises ValueError when the substring is not found.\n",
      " |  \n",
      " |  rjust(self, width, fillchar=' ', /)\n",
      " |      Return a right-justified string of length width.\n",
      " |      \n",
      " |      Padding is done using the specified fill character (default is a space).\n",
      " |  \n",
      " |  rpartition(self, sep, /)\n",
      " |      Partition the string into three parts using the given separator.\n",
      " |      \n",
      " |      This will search for the separator in the string, starting at the end. If\n",
      " |      the separator is found, returns a 3-tuple containing the part before the\n",
      " |      separator, the separator itself, and the part after it.\n",
      " |      \n",
      " |      If the separator is not found, returns a 3-tuple containing two empty strings\n",
      " |      and the original string.\n",
      " |  \n",
      " |  rsplit(self, /, sep=None, maxsplit=-1)\n",
      " |      Return a list of the words in the string, using sep as the delimiter string.\n",
      " |      \n",
      " |        sep\n",
      " |          The delimiter according which to split the string.\n",
      " |          None (the default value) means split according to any whitespace,\n",
      " |          and discard empty strings from the result.\n",
      " |        maxsplit\n",
      " |          Maximum number of splits to do.\n",
      " |          -1 (the default value) means no limit.\n",
      " |      \n",
      " |      Splits are done starting at the end of the string and working to the front.\n",
      " |  \n",
      " |  rstrip(self, chars=None, /)\n",
      " |      Return a copy of the string with trailing whitespace removed.\n",
      " |      \n",
      " |      If chars is given and not None, remove characters in chars instead.\n",
      " |  \n",
      " |  split(self, /, sep=None, maxsplit=-1)\n",
      " |      Return a list of the words in the string, using sep as the delimiter string.\n",
      " |      \n",
      " |      sep\n",
      " |        The delimiter according which to split the string.\n",
      " |        None (the default value) means split according to any whitespace,\n",
      " |        and discard empty strings from the result.\n",
      " |      maxsplit\n",
      " |        Maximum number of splits to do.\n",
      " |        -1 (the default value) means no limit.\n",
      " |  \n",
      " |  splitlines(self, /, keepends=False)\n",
      " |      Return a list of the lines in the string, breaking at line boundaries.\n",
      " |      \n",
      " |      Line breaks are not included in the resulting list unless keepends is given and\n",
      " |      true.\n",
      " |  \n",
      " |  startswith(...)\n",
      " |      S.startswith(prefix[, start[, end]]) -> bool\n",
      " |      \n",
      " |      Return True if S starts with the specified prefix, False otherwise.\n",
      " |      With optional start, test S beginning at that position.\n",
      " |      With optional end, stop comparing S at that position.\n",
      " |      prefix can also be a tuple of strings to try.\n",
      " |  \n",
      " |  strip(self, chars=None, /)\n",
      " |      Return a copy of the string with leading and trailing whitespace removed.\n",
      " |      \n",
      " |      If chars is given and not None, remove characters in chars instead.\n",
      " |  \n",
      " |  swapcase(self, /)\n",
      " |      Convert uppercase characters to lowercase and lowercase characters to uppercase.\n",
      " |  \n",
      " |  title(self, /)\n",
      " |      Return a version of the string where each word is titlecased.\n",
      " |      \n",
      " |      More specifically, words start with uppercased characters and all remaining\n",
      " |      cased characters have lower case.\n",
      " |  \n",
      " |  translate(self, table, /)\n",
      " |      Replace each character in the string using the given translation table.\n",
      " |      \n",
      " |        table\n",
      " |          Translation table, which must be a mapping of Unicode ordinals to\n",
      " |          Unicode ordinals, strings, or None.\n",
      " |      \n",
      " |      The table must implement lookup/indexing via __getitem__, for instance a\n",
      " |      dictionary or list.  If this operation raises LookupError, the character is\n",
      " |      left untouched.  Characters mapped to None are deleted.\n",
      " |  \n",
      " |  upper(self, /)\n",
      " |      Return a copy of the string converted to uppercase.\n",
      " |  \n",
      " |  zfill(self, width, /)\n",
      " |      Pad a numeric string with zeros on the left, to fill a field of the given width.\n",
      " |      \n",
      " |      The string is never truncated.\n",
      " |  \n",
      " |  ----------------------------------------------------------------------\n",
      " |  Static methods defined here:\n",
      " |  \n",
      " |  __new__(*args, **kwargs) from builtins.type\n",
      " |      Create and return a new object.  See help(type) for accurate signature.\n",
      " |  \n",
      " |  maketrans(...)\n",
      " |      Return a translation table usable for str.translate().\n",
      " |      \n",
      " |      If there is only one argument, it must be a dictionary mapping Unicode\n",
      " |      ordinals (integers) or characters to Unicode ordinals, strings or None.\n",
      " |      Character keys will be then converted to ordinals.\n",
      " |      If there are two arguments, they must be strings of equal length, and\n",
      " |      in the resulting dictionary, each character in x will be mapped to the\n",
      " |      character at the same position in y. If there is a third argument, it\n",
      " |      must be a string, whose characters will be mapped to None in the result.\n",
      "\n"
     ]
    }
   ],
   "source": [
    "help(str)"
   ]
  },
  {
   "cell_type": "code",
   "execution_count": 33,
   "id": "ece111c6-8fdf-46c6-96c2-9948b6094dc5",
   "metadata": {},
   "outputs": [],
   "source": [
    "class MyFirstClass:\n",
    "    pass   # statement placeholder\n",
    "    \n",
    "ob1 = MyFirstClass()"
   ]
  },
  {
   "cell_type": "code",
   "execution_count": 46,
   "id": "8f05761b-57b1-4672-b046-9988f13c5eb1",
   "metadata": {},
   "outputs": [
    {
     "name": "stdout",
     "output_type": "stream",
     "text": [
      "Executing the constructor method...\n",
      "This is a document string...\n",
      "Executing the display method...\n",
      "Class variables class_var1 = 100 and class_var2 = 200\n",
      "Class variables class_var1 = 100 and class_var2 = 200\n",
      "Instance variables inst_var1 = 111 and inst_var2 = 222\n",
      "Executing the update method...\n",
      "Executing the constructor method...\n",
      "Executing the display method...\n",
      "Class variables class_var1 = 1000 and class_var2 = 2000\n",
      "Class variables class_var1 = 1000 and class_var2 = 2000\n",
      "Instance variables inst_var1 = 333 and inst_var2 = 444\n"
     ]
    }
   ],
   "source": [
    "class MyClass:\n",
    "    \"\"\"This is a document string...\"\"\"\n",
    "    class_var1 = 100\n",
    "    class_var2 = 200\n",
    "    def __init__(self, data1, data2):  # self stands for object binding variable\n",
    "        print (\"Executing the constructor method...\")\n",
    "        self.inst_var1 = data1\n",
    "        self.inst_var2 = data2\n",
    "    def display(self):\n",
    "        print (\"Executing the display method...\")\n",
    "        print (f\"Class variables class_var1 = {MyClass.class_var1} and class_var2 = {MyClass.class_var2}\")\n",
    "        print (f\"Class variables class_var1 = {self.class_var1} and class_var2 = {self.class_var2}\")\n",
    "        print (f\"Instance variables inst_var1 = {self.inst_var1} and inst_var2 = {self.inst_var2}\")\n",
    "    def update(self):\n",
    "        print (\"Executing the update method...\")\n",
    "        MyClass.class_var1 = 1000\n",
    "        MyClass.class_var2 = 2000\n",
    "ob1 = MyClass(111, 222)\n",
    "print (ob1.__doc__)\n",
    "ob1.display()\n",
    "ob1.update()\n",
    "ob2 = MyClass(333, 444)\n",
    "ob2.display()"
   ]
  },
  {
   "cell_type": "code",
   "execution_count": 39,
   "id": "3e963e71-8b71-4a6a-b0fc-c19a5074b38d",
   "metadata": {},
   "outputs": [
    {
     "name": "stdout",
     "output_type": "stream",
     "text": [
      "university 10 UNIVERSITY\n"
     ]
    }
   ],
   "source": [
    "mystr = \"university\"\n",
    "print (mystr, len(mystr), mystr.upper())"
   ]
  },
  {
   "cell_type": "code",
   "execution_count": 9,
   "id": "5c34fe90-e9a2-4194-8c66-8a7558d95e22",
   "metadata": {},
   "outputs": [
    {
     "name": "stdout",
     "output_type": "stream",
     "text": [
      "Executing the constructor method...\n",
      "Executing the display method...\n",
      "Class variables class_var1 = 100 and class_var2 = 200\n",
      "Class variables class_var1 = 100 and class_var2 = 200\n",
      "Instance variables inst_var1 = 111 and inst_var2 = 222\n",
      "Executing the constructor method...\n",
      "Executing the display method...\n",
      "Class variables class_var1 = 100 and class_var2 = 200\n",
      "Class variables class_var1 = 100 and class_var2 = 200\n",
      "Instance variables inst_var1 = 333 and inst_var2 = 444\n"
     ]
    }
   ],
   "source": [
    "class MyClass:\n",
    "    \"\"\"This is a document string...\"\"\"\n",
    "    class_var1 = 100\n",
    "    class_var2 = 200\n",
    "    def __init__(self, data1, data2):  # self stands for object binding variable\n",
    "        print (\"Executing the constructor method...\")\n",
    "        self.inst_var1 = data1\n",
    "        self.inst_var2 = data2\n",
    "    def display(self):\n",
    "        print (\"Executing the display method...\")\n",
    "        print (f\"Class variables class_var1 = {MyClass.class_var1} and class_var2 = {MyClass.class_var2}\")\n",
    "        print (f\"Class variables class_var1 = {self.class_var1} and class_var2 = {self.class_var2}\")\n",
    "        print (f\"Instance variables inst_var1 = {self.inst_var1} and inst_var2 = {self.inst_var2}\")\n",
    "    def update(self):\n",
    "        print (\"Executing the update method...\")\n",
    "        MyClass.class_var1 = 1000\n",
    "        MyClass.class_var2 = 2000\n",
    "    def __del__(self):\n",
    "        print (f\"Executing destructor method with inst_var1 = {self.inst_var1} and inst_var2 = {self.inst_var2}\")\n",
    "ob1 = MyClass(111, 222)\n",
    "ob1.display()\n",
    "ob2 = MyClass(333, 444)\n",
    "ob2.display()"
   ]
  },
  {
   "cell_type": "code",
   "execution_count": 10,
   "id": "a8cfa9af-1b3d-4a39-b3e6-0249991735ff",
   "metadata": {},
   "outputs": [
    {
     "name": "stdout",
     "output_type": "stream",
     "text": [
      "Executing the display method...\n",
      "Class variables class_var1 = 100 and class_var2 = 200\n",
      "Class variables class_var1 = 100 and class_var2 = 200\n",
      "Instance variables inst_var1 = 111 and inst_var2 = 222\n"
     ]
    }
   ],
   "source": [
    "ob1.display()"
   ]
  },
  {
   "cell_type": "code",
   "execution_count": 11,
   "id": "515824fd-b00c-4108-8e36-8a3695434d69",
   "metadata": {},
   "outputs": [
    {
     "name": "stdout",
     "output_type": "stream",
     "text": [
      "Executing destructor method with inst_var1 = 111 and inst_var2 = 222\n"
     ]
    }
   ],
   "source": [
    "del ob1"
   ]
  },
  {
   "cell_type": "code",
   "execution_count": 12,
   "id": "7939a965-a04d-4e40-90bf-c97c7545ac6b",
   "metadata": {},
   "outputs": [
    {
     "ename": "NameError",
     "evalue": "name 'ob1' is not defined",
     "output_type": "error",
     "traceback": [
      "\u001b[1;31m---------------------------------------------------------------------------\u001b[0m",
      "\u001b[1;31mNameError\u001b[0m                                 Traceback (most recent call last)",
      "\u001b[1;32m<ipython-input-12-693f2ba97416>\u001b[0m in \u001b[0;36m<module>\u001b[1;34m\u001b[0m\n\u001b[1;32m----> 1\u001b[1;33m \u001b[0mob1\u001b[0m\u001b[1;33m.\u001b[0m\u001b[0mdisplay\u001b[0m\u001b[1;33m(\u001b[0m\u001b[1;33m)\u001b[0m\u001b[1;33m\u001b[0m\u001b[1;33m\u001b[0m\u001b[0m\n\u001b[0m",
      "\u001b[1;31mNameError\u001b[0m: name 'ob1' is not defined"
     ]
    }
   ],
   "source": [
    "ob1.display()"
   ]
  },
  {
   "cell_type": "code",
   "execution_count": 13,
   "id": "3bac4ef9-30af-4ac7-97bd-8eac0c9e34d2",
   "metadata": {},
   "outputs": [
    {
     "name": "stdout",
     "output_type": "stream",
     "text": [
      "Executing the display method...\n",
      "Class variables class_var1 = 100 and class_var2 = 200\n",
      "Class variables class_var1 = 100 and class_var2 = 200\n",
      "Instance variables inst_var1 = 333 and inst_var2 = 444\n"
     ]
    }
   ],
   "source": [
    "ob2.display()"
   ]
  },
  {
   "cell_type": "code",
   "execution_count": 14,
   "id": "71b25b2d-24c2-41d7-bb1b-935549165227",
   "metadata": {},
   "outputs": [
    {
     "name": "stdout",
     "output_type": "stream",
     "text": [
      "Executing destructor method with inst_var1 = 333 and inst_var2 = 444\n"
     ]
    }
   ],
   "source": [
    "del ob2"
   ]
  },
  {
   "cell_type": "code",
   "execution_count": 15,
   "id": "e13c0721-02c1-4a6c-b057-8d56c40102b9",
   "metadata": {},
   "outputs": [
    {
     "ename": "NameError",
     "evalue": "name 'ob2' is not defined",
     "output_type": "error",
     "traceback": [
      "\u001b[1;31m---------------------------------------------------------------------------\u001b[0m",
      "\u001b[1;31mNameError\u001b[0m                                 Traceback (most recent call last)",
      "\u001b[1;32m<ipython-input-15-ac7ec0b65398>\u001b[0m in \u001b[0;36m<module>\u001b[1;34m\u001b[0m\n\u001b[1;32m----> 1\u001b[1;33m \u001b[0mob2\u001b[0m\u001b[1;33m.\u001b[0m\u001b[0mdisplay\u001b[0m\u001b[1;33m(\u001b[0m\u001b[1;33m)\u001b[0m\u001b[1;33m\u001b[0m\u001b[1;33m\u001b[0m\u001b[0m\n\u001b[0m",
      "\u001b[1;31mNameError\u001b[0m: name 'ob2' is not defined"
     ]
    }
   ],
   "source": [
    "ob2.display()"
   ]
  },
  {
   "cell_type": "code",
   "execution_count": 18,
   "id": "457f4e7b-edc8-442b-b81a-99f6d6cf588c",
   "metadata": {},
   "outputs": [
    {
     "name": "stdout",
     "output_type": "stream",
     "text": [
      "So the current value in count = 5\n"
     ]
    }
   ],
   "source": [
    "class MyClass:\n",
    "    obj_count = 0\n",
    "    def __init__(self):\n",
    "        MyClass.obj_count += 1\n",
    "        \n",
    "ob1 = MyClass()\n",
    "ob2 = MyClass()\n",
    "ob3 = MyClass()\n",
    "ob4 = MyClass()\n",
    "ob5 = MyClass()\n",
    "print (f\"So the current value in count = {MyClass.obj_count}\")"
   ]
  },
  {
   "cell_type": "code",
   "execution_count": 25,
   "id": "fd308f21-d0c9-4b33-9697-af84881243ca",
   "metadata": {},
   "outputs": [
    {
     "name": "stdout",
     "output_type": "stream",
     "text": [
      "Executing the instance method... <__main__.MyClass object at 0x00000129927D1040>\n",
      "instVar = 100, classVar = 222 and classVar = 222\n",
      "\n",
      "Executing the class method <class '__main__.MyClass'>\n",
      "classVar = 333 and classVar = 333\n",
      "Executing the class method <class '__main__.MyClass'>\n",
      "classVar = 333 and classVar = 333\n",
      "\n",
      "Executing the static method\n",
      "classVar = 333\n",
      "Executing the static method\n",
      "classVar = 333\n"
     ]
    }
   ],
   "source": [
    "# there are three different methods in Python: instance, class and static methods\n",
    "class MyClass:\n",
    "    classVar = 111  # class variable\n",
    "    # declaring instance method\n",
    "    def instMethod(self):\n",
    "        print (\"Executing the instance method...\", self)\n",
    "        self.instVar = 100  # instance variable\n",
    "        MyClass.classVar = 222\n",
    "        print (f\"instVar = {self.instVar}, classVar = {self.classVar} and classVar = {MyClass.classVar}\")\n",
    "    # declaring class method\n",
    "    @classmethod   # annotation or decorator\n",
    "    def classMethod(cla):\n",
    "        print (\"Executing the class method\", cla)\n",
    "        cla.classVar = 333\n",
    "        print (f\"classVar = {cla.classVar} and classVar = {MyClass.classVar}\")\n",
    "    # declaring static method\n",
    "    @staticmethod   # annotation or decorator\n",
    "    def staticMethod():\n",
    "        print (\"Executing the static method\")\n",
    "        MyClass.classVar = 333\n",
    "        print (f\"classVar = {MyClass.classVar}\")\n",
    "        \n",
    "ob1 = MyClass()\n",
    "ob1.instMethod()\n",
    "# MyClass.instMethod()\n",
    "print ()\n",
    "MyClass.classMethod()\n",
    "ob1.classMethod()\n",
    "print ()\n",
    "MyClass.staticMethod()\n",
    "ob1.staticMethod()"
   ]
  },
  {
   "cell_type": "code",
   "execution_count": 31,
   "id": "c58e7a62-d6ec-48c4-b68a-aba4a47c56ee",
   "metadata": {},
   "outputs": [
    {
     "name": "stdout",
     "output_type": "stream",
     "text": [
      "publicVar = 100\n",
      "_protectedVar = 200\n",
      "__privateVar = 300\n",
      "publicMethod return string = Public method is executing...\n",
      "_protectedMethod return string = Protected method is executing...\n",
      "__privateVar = Private method is executing...\n"
     ]
    }
   ],
   "source": [
    "# access specifier: private, public, protected\n",
    "class MyClass:\n",
    "    def __init__(self):\n",
    "        self.publicVar = 100\n",
    "        self._protectedVar = 200\n",
    "        self.__privateVar = 300\n",
    "    def publicMethod(self):\n",
    "        return \"Public method is executing...\"\n",
    "    def _protectedMethod(self):\n",
    "        return \"Protected method is executing...\"\n",
    "    def __privateMethod(self):\n",
    "        return \"Private method is executing...\"\n",
    "    \n",
    "ob1 = MyClass()\n",
    "print (f\"publicVar = {ob1.publicVar}\")\n",
    "print (f\"_protectedVar = {ob1._protectedVar}\")\n",
    "# print (f\"__privateVar = {ob1.__privateVar}\")\n",
    "print (f\"__privateVar = {ob1._MyClass__privateVar}\")\n",
    "print (f\"publicMethod return string = {ob1.publicMethod()}\")\n",
    "print (f\"_protectedMethod return string = {ob1._protectedMethod()}\")\n",
    "# print (f\"__privateMethod return string = {ob1.__privateMethod()}\")\n",
    "print (f\"__privateVar = {ob1._MyClass__privateMethod()}\")"
   ]
  },
  {
   "cell_type": "code",
   "execution_count": null,
   "id": "d6db362a-0bff-4e9d-a879-6f86600f8abc",
   "metadata": {},
   "outputs": [],
   "source": []
  }
 ],
 "metadata": {
  "kernelspec": {
   "display_name": "Python 3",
   "language": "python",
   "name": "python3"
  },
  "language_info": {
   "codemirror_mode": {
    "name": "ipython",
    "version": 3
   },
   "file_extension": ".py",
   "mimetype": "text/x-python",
   "name": "python",
   "nbconvert_exporter": "python",
   "pygments_lexer": "ipython3",
   "version": "3.8.8"
  }
 },
 "nbformat": 4,
 "nbformat_minor": 5
}
