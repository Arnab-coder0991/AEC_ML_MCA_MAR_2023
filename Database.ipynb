{
 "cells": [
  {
   "cell_type": "markdown",
   "id": "9b96eabf-2c9a-484a-9e94-ed89c98787d3",
   "metadata": {},
   "source": [
    "### Dealing with the Database"
   ]
  },
  {
   "cell_type": "code",
   "execution_count": 1,
   "id": "8211f09e-50f6-498f-9a41-40da25513112",
   "metadata": {},
   "outputs": [],
   "source": [
    "# creation of Database\n",
    "import sqlite3    # importing the required module"
   ]
  },
  {
   "cell_type": "code",
   "execution_count": 2,
   "id": "cf896183-594d-4c55-926a-4c00077e961b",
   "metadata": {},
   "outputs": [],
   "source": [
    "# use the database if it pre-exists or create a new one\n",
    "connection = sqlite3.connect(\"myemp.db\")"
   ]
  },
  {
   "cell_type": "code",
   "execution_count": null,
   "id": "8a6be5da-3884-4fcf-97c6-558ad504ab0e",
   "metadata": {},
   "outputs": [],
   "source": [
    "# SQlite Manager Online URL: https://extendsclass.com/sqlite-browser.html"
   ]
  },
  {
   "cell_type": "code",
   "execution_count": 3,
   "id": "9f01b99c-2096-435e-b92d-d1b241441a33",
   "metadata": {},
   "outputs": [
    {
     "name": "stdout",
     "output_type": "stream",
     "text": [
      "Database table has been created successfully...\n"
     ]
    }
   ],
   "source": [
    "# create employee table as employee(emp_id, emp_name, emp_city, emp_salary)\n",
    "sqlStr = '''\n",
    "         CREATE TABLE employee (\n",
    "         emp_id INTEGER PRIMARY KEY,\n",
    "         emp_name TEXT,\n",
    "         emp_city TEXT,\n",
    "         emp_salary REAL);\n",
    "         '''\n",
    "try:   # create the table if it does not pre-exist\n",
    "    connection.execute(sqlStr)\n",
    "    print (\"Database table has been created successfully...\")\n",
    "except:\n",
    "    print (\"Error !!! Database table could not be created successfully...\")"
   ]
  },
  {
   "cell_type": "code",
   "execution_count": 12,
   "id": "ac4e5833-b4ce-4fee-8aa9-2fea00e95418",
   "metadata": {},
   "outputs": [
    {
     "name": "stdout",
     "output_type": "stream",
     "text": [
      "[['1001', 'Dhiman', 'Kolkata', '39000'], ['1002', 'Anupam', 'Kolkata', '25000'], ['1003', 'Subham', 'Mumbai', '36000'], ['1004', 'Dinesh', 'Chennai', '28000'], ['1005', 'Kakali', 'Mumbai', '25000'], ['1006', 'Bimal', 'Hyderabad', '30000'], ['1007', 'Tarun', 'Chennai', '17000'], ['1008', 'Rittik', 'Durgapur', '45000'], ['1009', 'Barun', 'Hyderabad', '39000'], ['1010', 'Utpal', 'Lucknow', '20000']]\n"
     ]
    }
   ],
   "source": [
    "# inserting records into the database table after reading data from the CSV file\n",
    "import csv\n",
    "sqlStr = \"INSERT INTO employee VALUES ('{emp_id_ph}', '{emp_name_ph}', '{emp_city_ph}', '{emp_salary_ph}');\"\n",
    "\n",
    "# read lines from the csv file and store them into the database table\n",
    "with open('emp_data.csv') as data_file:\n",
    "    csv_reader = csv.reader(data_file)\n",
    "    # print (len(list(csv_reader)))\n",
    "    print (list(csv_reader))\n",
    "# csv_reader = csv.reader(data_file)"
   ]
  },
  {
   "cell_type": "code",
   "execution_count": 14,
   "id": "c9b5f7fd-9a93-4038-8dfd-d510809414f5",
   "metadata": {},
   "outputs": [
    {
     "name": "stdout",
     "output_type": "stream",
     "text": [
      "['1001', 'Dhiman', 'Kolkata', '39000']\n",
      "['1002', 'Anupam', 'Kolkata', '25000']\n",
      "['1003', 'Subham', 'Mumbai', '36000']\n",
      "['1004', 'Dinesh', 'Chennai', '28000']\n",
      "['1005', 'Kakali', 'Mumbai', '25000']\n",
      "['1006', 'Bimal', 'Hyderabad', '30000']\n",
      "['1007', 'Tarun', 'Chennai', '17000']\n",
      "['1008', 'Rittik', 'Durgapur', '45000']\n",
      "['1009', 'Barun', 'Hyderabad', '39000']\n",
      "['1010', 'Utpal', 'Lucknow', '20000']\n",
      "All record entries have been completed successfully...\n"
     ]
    }
   ],
   "source": [
    "# inserting records into the database table after reading data from the CSV file\n",
    "import csv\n",
    "sqlStr = \"INSERT INTO employee VALUES ('{emp_id_ph}', '{emp_name_ph}', '{emp_city_ph}', '{emp_salary_ph}');\"\n",
    "\n",
    "# read lines from the csv file and store them into the database table\n",
    "with open('emp_data.csv') as data_file:\n",
    "    csv_reader = csv.reader(data_file)\n",
    "    for row in csv_reader:\n",
    "        print (row)\n",
    "        connection.execute(sqlStr.format(emp_id_ph = row[0], emp_name_ph = row[1], emp_city_ph = row[2], emp_salary_ph = row[3]))\n",
    "        \n",
    "connection.commit()   # making the change or records enrty to the table permanent\n",
    "print (\"All record entries have been completed successfully...\")"
   ]
  },
  {
   "cell_type": "code",
   "execution_count": 15,
   "id": "f2a58450-bc69-490a-a2af-155771c42bd8",
   "metadata": {},
   "outputs": [
    {
     "name": "stdout",
     "output_type": "stream",
     "text": [
      "[(1001, 'Dhiman', 'Kolkata', 39000.0), (1002, 'Anupam', 'Kolkata', 25000.0), (1003, 'Subham', 'Mumbai', 36000.0), (1004, 'Dinesh', 'Chennai', 28000.0), (1005, 'Kakali', 'Mumbai', 25000.0), (1006, 'Bimal', 'Hyderabad', 30000.0), (1007, 'Tarun', 'Chennai', 17000.0), (1008, 'Rittik', 'Durgapur', 45000.0), (1009, 'Barun', 'Hyderabad', 39000.0), (1010, 'Utpal', 'Lucknow', 20000.0)]\n"
     ]
    }
   ],
   "source": [
    "# displaying all the records available in the database table\n",
    "# SQL for fetching all records from the table\n",
    "sqlStr = \"SELECT * FROM employee;\"\n",
    "# read from table and point the cursor into the variable cur_table\n",
    "cur_table = connection.execute(sqlStr)\n",
    "print (list(cur_table))"
   ]
  },
  {
   "cell_type": "code",
   "execution_count": 16,
   "id": "5bebfc0a-e583-4c67-82e7-558ac448a925",
   "metadata": {},
   "outputs": [
    {
     "name": "stdout",
     "output_type": "stream",
     "text": [
      "Emp-ID: 1001, Emp-Name: Dhiman, Emp-City: Kolkata, Emp-Salary: 39000.0\n",
      "Emp-ID: 1002, Emp-Name: Anupam, Emp-City: Kolkata, Emp-Salary: 25000.0\n",
      "Emp-ID: 1003, Emp-Name: Subham, Emp-City: Mumbai, Emp-Salary: 36000.0\n",
      "Emp-ID: 1004, Emp-Name: Dinesh, Emp-City: Chennai, Emp-Salary: 28000.0\n",
      "Emp-ID: 1005, Emp-Name: Kakali, Emp-City: Mumbai, Emp-Salary: 25000.0\n",
      "Emp-ID: 1006, Emp-Name: Bimal, Emp-City: Hyderabad, Emp-Salary: 30000.0\n",
      "Emp-ID: 1007, Emp-Name: Tarun, Emp-City: Chennai, Emp-Salary: 17000.0\n",
      "Emp-ID: 1008, Emp-Name: Rittik, Emp-City: Durgapur, Emp-Salary: 45000.0\n",
      "Emp-ID: 1009, Emp-Name: Barun, Emp-City: Hyderabad, Emp-Salary: 39000.0\n",
      "Emp-ID: 1010, Emp-Name: Utpal, Emp-City: Lucknow, Emp-Salary: 20000.0\n"
     ]
    }
   ],
   "source": [
    "# displaying all the records available in the database table\n",
    "# SQL for fetching all records from the table\n",
    "sqlStr = \"SELECT * FROM employee;\"\n",
    "# read from table and point the cursor into the variable cur_table\n",
    "cur_table = connection.execute(sqlStr)\n",
    "# print (list(cur_table))\n",
    "for row in cur_table:\n",
    "    print (f\"Emp-ID: {row[0]}, Emp-Name: {row[1]}, Emp-City: {row[2]}, Emp-Salary: {row[3]}\")"
   ]
  },
  {
   "cell_type": "code",
   "execution_count": null,
   "id": "d2927f87-8773-496a-8695-ad53be8dd6a5",
   "metadata": {},
   "outputs": [],
   "source": []
  },
  {
   "cell_type": "code",
   "execution_count": null,
   "id": "4f032d6e-d8a4-453c-8464-578b8451129e",
   "metadata": {},
   "outputs": [],
   "source": []
  },
  {
   "cell_type": "code",
   "execution_count": null,
   "id": "57cc10ba-c7cd-4887-98ca-87d7c4cf4386",
   "metadata": {},
   "outputs": [],
   "source": []
  },
  {
   "cell_type": "code",
   "execution_count": null,
   "id": "63266d30-3a8a-4746-9a91-809bbc2b6dbb",
   "metadata": {},
   "outputs": [],
   "source": []
  },
  {
   "cell_type": "code",
   "execution_count": null,
   "id": "69e3f637-9874-4d86-9a6a-bfde25f94e3c",
   "metadata": {},
   "outputs": [],
   "source": []
  },
  {
   "cell_type": "code",
   "execution_count": null,
   "id": "c9822487-1dd4-4108-a05d-95701185de9b",
   "metadata": {},
   "outputs": [],
   "source": []
  },
  {
   "cell_type": "code",
   "execution_count": null,
   "id": "4a8db830-052e-458e-a49b-09c26081d6ed",
   "metadata": {},
   "outputs": [],
   "source": []
  }
 ],
 "metadata": {
  "kernelspec": {
   "display_name": "Python 3",
   "language": "python",
   "name": "python3"
  },
  "language_info": {
   "codemirror_mode": {
    "name": "ipython",
    "version": 3
   },
   "file_extension": ".py",
   "mimetype": "text/x-python",
   "name": "python",
   "nbconvert_exporter": "python",
   "pygments_lexer": "ipython3",
   "version": "3.8.8"
  }
 },
 "nbformat": 4,
 "nbformat_minor": 5
}
